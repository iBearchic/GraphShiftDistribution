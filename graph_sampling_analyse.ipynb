{
  "nbformat": 4,
  "nbformat_minor": 0,
  "metadata": {
    "colab": {
      "provenance": []
    },
    "kernelspec": {
      "name": "python3",
      "display_name": "Python 3"
    },
    "language_info": {
      "name": "python"
    }
  },
  "cells": [
    {
      "cell_type": "markdown",
      "source": [
        "# Установка пакетов разработки"
      ],
      "metadata": {
        "id": "4w888t4hjAH_"
      }
    },
    {
      "cell_type": "code",
      "execution_count": 1,
      "metadata": {
        "colab": {
          "base_uri": "https://localhost:8080/"
        },
        "id": "drJAYvT94y5e",
        "outputId": "ae2cc4a0-1d5f-4402-8492-8dfce77dac0d"
      },
      "outputs": [
        {
          "output_type": "stream",
          "name": "stdout",
          "text": [
            "Requirement already satisfied: torch in /usr/local/lib/python3.10/dist-packages (2.5.1+cu121)\n",
            "Requirement already satisfied: torchvision in /usr/local/lib/python3.10/dist-packages (0.20.1+cu121)\n",
            "Requirement already satisfied: torchaudio in /usr/local/lib/python3.10/dist-packages (2.5.1+cu121)\n",
            "Requirement already satisfied: filelock in /usr/local/lib/python3.10/dist-packages (from torch) (3.16.1)\n",
            "Requirement already satisfied: typing-extensions>=4.8.0 in /usr/local/lib/python3.10/dist-packages (from torch) (4.12.2)\n",
            "Requirement already satisfied: networkx in /usr/local/lib/python3.10/dist-packages (from torch) (3.4.2)\n",
            "Requirement already satisfied: jinja2 in /usr/local/lib/python3.10/dist-packages (from torch) (3.1.4)\n",
            "Requirement already satisfied: fsspec in /usr/local/lib/python3.10/dist-packages (from torch) (2024.10.0)\n",
            "Requirement already satisfied: sympy==1.13.1 in /usr/local/lib/python3.10/dist-packages (from torch) (1.13.1)\n",
            "Requirement already satisfied: mpmath<1.4,>=1.1.0 in /usr/local/lib/python3.10/dist-packages (from sympy==1.13.1->torch) (1.3.0)\n",
            "Requirement already satisfied: numpy in /usr/local/lib/python3.10/dist-packages (from torchvision) (1.26.4)\n",
            "Requirement already satisfied: pillow!=8.3.*,>=5.3.0 in /usr/local/lib/python3.10/dist-packages (from torchvision) (11.0.0)\n",
            "Requirement already satisfied: MarkupSafe>=2.0 in /usr/local/lib/python3.10/dist-packages (from jinja2->torch) (3.0.2)\n",
            "Collecting torch-geometric\n",
            "  Downloading torch_geometric-2.6.1-py3-none-any.whl.metadata (63 kB)\n",
            "\u001b[2K     \u001b[90m━━━━━━━━━━━━━━━━━━━━━━━━━━━━━━━━━━━━━━━━\u001b[0m \u001b[32m63.1/63.1 kB\u001b[0m \u001b[31m3.9 MB/s\u001b[0m eta \u001b[36m0:00:00\u001b[0m\n",
            "\u001b[?25hRequirement already satisfied: aiohttp in /usr/local/lib/python3.10/dist-packages (from torch-geometric) (3.11.10)\n",
            "Requirement already satisfied: fsspec in /usr/local/lib/python3.10/dist-packages (from torch-geometric) (2024.10.0)\n",
            "Requirement already satisfied: jinja2 in /usr/local/lib/python3.10/dist-packages (from torch-geometric) (3.1.4)\n",
            "Requirement already satisfied: numpy in /usr/local/lib/python3.10/dist-packages (from torch-geometric) (1.26.4)\n",
            "Requirement already satisfied: psutil>=5.8.0 in /usr/local/lib/python3.10/dist-packages (from torch-geometric) (5.9.5)\n",
            "Requirement already satisfied: pyparsing in /usr/local/lib/python3.10/dist-packages (from torch-geometric) (3.2.0)\n",
            "Requirement already satisfied: requests in /usr/local/lib/python3.10/dist-packages (from torch-geometric) (2.32.3)\n",
            "Requirement already satisfied: tqdm in /usr/local/lib/python3.10/dist-packages (from torch-geometric) (4.67.1)\n",
            "Requirement already satisfied: aiohappyeyeballs>=2.3.0 in /usr/local/lib/python3.10/dist-packages (from aiohttp->torch-geometric) (2.4.4)\n",
            "Requirement already satisfied: aiosignal>=1.1.2 in /usr/local/lib/python3.10/dist-packages (from aiohttp->torch-geometric) (1.3.2)\n",
            "Requirement already satisfied: async-timeout<6.0,>=4.0 in /usr/local/lib/python3.10/dist-packages (from aiohttp->torch-geometric) (4.0.3)\n",
            "Requirement already satisfied: attrs>=17.3.0 in /usr/local/lib/python3.10/dist-packages (from aiohttp->torch-geometric) (24.3.0)\n",
            "Requirement already satisfied: frozenlist>=1.1.1 in /usr/local/lib/python3.10/dist-packages (from aiohttp->torch-geometric) (1.5.0)\n",
            "Requirement already satisfied: multidict<7.0,>=4.5 in /usr/local/lib/python3.10/dist-packages (from aiohttp->torch-geometric) (6.1.0)\n",
            "Requirement already satisfied: propcache>=0.2.0 in /usr/local/lib/python3.10/dist-packages (from aiohttp->torch-geometric) (0.2.1)\n",
            "Requirement already satisfied: yarl<2.0,>=1.17.0 in /usr/local/lib/python3.10/dist-packages (from aiohttp->torch-geometric) (1.18.3)\n",
            "Requirement already satisfied: MarkupSafe>=2.0 in /usr/local/lib/python3.10/dist-packages (from jinja2->torch-geometric) (3.0.2)\n",
            "Requirement already satisfied: charset-normalizer<4,>=2 in /usr/local/lib/python3.10/dist-packages (from requests->torch-geometric) (3.4.0)\n",
            "Requirement already satisfied: idna<4,>=2.5 in /usr/local/lib/python3.10/dist-packages (from requests->torch-geometric) (3.10)\n",
            "Requirement already satisfied: urllib3<3,>=1.21.1 in /usr/local/lib/python3.10/dist-packages (from requests->torch-geometric) (2.2.3)\n",
            "Requirement already satisfied: certifi>=2017.4.17 in /usr/local/lib/python3.10/dist-packages (from requests->torch-geometric) (2024.12.14)\n",
            "Requirement already satisfied: typing-extensions>=4.1.0 in /usr/local/lib/python3.10/dist-packages (from multidict<7.0,>=4.5->aiohttp->torch-geometric) (4.12.2)\n",
            "Downloading torch_geometric-2.6.1-py3-none-any.whl (1.1 MB)\n",
            "\u001b[2K   \u001b[90m━━━━━━━━━━━━━━━━━━━━━━━━━━━━━━━━━━━━━━━━\u001b[0m \u001b[32m1.1/1.1 MB\u001b[0m \u001b[31m15.2 MB/s\u001b[0m eta \u001b[36m0:00:00\u001b[0m\n",
            "\u001b[?25hInstalling collected packages: torch-geometric\n",
            "Successfully installed torch-geometric-2.6.1\n",
            "Requirement already satisfied: networkx in /usr/local/lib/python3.10/dist-packages (3.4.2)\n",
            "Requirement already satisfied: matplotlib in /usr/local/lib/python3.10/dist-packages (3.8.0)\n",
            "Requirement already satisfied: seaborn in /usr/local/lib/python3.10/dist-packages (0.13.2)\n",
            "Requirement already satisfied: contourpy>=1.0.1 in /usr/local/lib/python3.10/dist-packages (from matplotlib) (1.3.1)\n",
            "Requirement already satisfied: cycler>=0.10 in /usr/local/lib/python3.10/dist-packages (from matplotlib) (0.12.1)\n",
            "Requirement already satisfied: fonttools>=4.22.0 in /usr/local/lib/python3.10/dist-packages (from matplotlib) (4.55.3)\n",
            "Requirement already satisfied: kiwisolver>=1.0.1 in /usr/local/lib/python3.10/dist-packages (from matplotlib) (1.4.7)\n",
            "Requirement already satisfied: numpy<2,>=1.21 in /usr/local/lib/python3.10/dist-packages (from matplotlib) (1.26.4)\n",
            "Requirement already satisfied: packaging>=20.0 in /usr/local/lib/python3.10/dist-packages (from matplotlib) (24.2)\n",
            "Requirement already satisfied: pillow>=6.2.0 in /usr/local/lib/python3.10/dist-packages (from matplotlib) (11.0.0)\n",
            "Requirement already satisfied: pyparsing>=2.3.1 in /usr/local/lib/python3.10/dist-packages (from matplotlib) (3.2.0)\n",
            "Requirement already satisfied: python-dateutil>=2.7 in /usr/local/lib/python3.10/dist-packages (from matplotlib) (2.8.2)\n",
            "Requirement already satisfied: pandas>=1.2 in /usr/local/lib/python3.10/dist-packages (from seaborn) (2.2.2)\n",
            "Requirement already satisfied: pytz>=2020.1 in /usr/local/lib/python3.10/dist-packages (from pandas>=1.2->seaborn) (2024.2)\n",
            "Requirement already satisfied: tzdata>=2022.7 in /usr/local/lib/python3.10/dist-packages (from pandas>=1.2->seaborn) (2024.2)\n",
            "Requirement already satisfied: six>=1.5 in /usr/local/lib/python3.10/dist-packages (from python-dateutil>=2.7->matplotlib) (1.17.0)\n"
          ]
        }
      ],
      "source": [
        "!pip install torch torchvision torchaudio\n",
        "!pip install torch-geometric\n",
        "!pip install networkx\n",
        "!pip install matplotlib seaborn"
      ]
    },
    {
      "cell_type": "markdown",
      "source": [
        "# Функция вычисления графовых характеристик"
      ],
      "metadata": {
        "id": "a30ppobOjMUi"
      }
    },
    {
      "cell_type": "code",
      "source": [
        "import torch\n",
        "import networkx as nx\n",
        "from torch_geometric.datasets import Planetoid, OGB_MAG, PPI\n",
        "from torch_geometric.utils import to_networkx\n",
        "from networkx.algorithms.cluster import clustering\n",
        "from networkx.algorithms.centrality import degree_centrality, closeness_centrality, betweenness_centrality, eigenvector_centrality\n",
        "from networkx.algorithms.smallworld import sigma\n",
        "\n",
        "def compute_metrics(graph_data, to_undirected=True):\n",
        "    \"\"\" Функция для вычисления характеристик графа\"\"\"\n",
        "    # Конвертируем граф в формат NetworkX\n",
        "    G = to_networkx(graph_data, to_undirected=to_undirected)\n",
        "\n",
        "    # Степень вершины\n",
        "    try:\n",
        "      degree_dict = dict(G.degree())\n",
        "      print(f\"Degree: {degree_dict}\")\n",
        "    except Exception as err:\n",
        "      print(f\"Degree error: {str(err)}\")\n",
        "      degree_dict = None\n",
        "\n",
        "    # Диаметр графа\n",
        "    if to_undirected:\n",
        "      diameter = nx.diameter(G) if nx.is_connected(G) else None\n",
        "      print(f\"Diameter: {diameter}\")\n",
        "    else:\n",
        "      diameter = None\n",
        "      print(f\"Diameter not supported for directed graphs\")\n",
        "\n",
        "\n",
        "    # Кластерный коэффициент для вершин\n",
        "    try:\n",
        "      clustering_coeff = clustering(G)\n",
        "      print(f\"Clustering Coefficient: {clustering_coeff}\")\n",
        "    except Exception as err:\n",
        "      print(f\"Clustering Coefficient error: {str(err)}\")\n",
        "      clustering_coeff = None\n",
        "\n",
        "\n",
        "    # Центральность по степени\n",
        "    try:\n",
        "      degree_cent = degree_centrality(G)\n",
        "      print(f\"Degree Centrality: {degree_cent}\")\n",
        "    except Exception as err:\n",
        "      print(f\"Degree Centrality error: {str(err)}\")\n",
        "      degree_cent = None\n",
        "\n",
        "\n",
        "    # Центральность по близости\n",
        "    try:\n",
        "      closeness_cent = closeness_centrality(G)\n",
        "      print(f\"Closeness Centrality: {closeness_cent}\")\n",
        "    except Exception as err:\n",
        "      print(f\"Closeness Centrality error: {str(err)}\")\n",
        "      closeness_cent = None\n",
        "\n",
        "\n",
        "    # Междуузловая центральность\n",
        "    try:\n",
        "      betweenness_cent = betweenness_centrality(G)\n",
        "      print(f\"Betweenness Centrality: {betweenness_cent}\")\n",
        "    except Exception as err:\n",
        "      print(f\"Betweenness Centrality error: {str(err)}\")\n",
        "      betweenness_cent = None\n",
        "\n",
        "\n",
        "    # Собственная центральность\n",
        "    try:\n",
        "      eigenvector_cent = eigenvector_centrality(G)\n",
        "      print(f\"Eigenvector Centrality: {eigenvector_cent}\")\n",
        "    except Exception as err:\n",
        "      print(f\"Eigenvector Centrality error: {str(err)}\")\n",
        "      eigenvector_cent = None\n",
        "\n",
        "    # Эксцентриситет\n",
        "    try:\n",
        "      eccentricity = dict(nx.eccentricity(G))\n",
        "      print(f\"Eccentricity: {eccentricity}\")\n",
        "    except Exception as err:\n",
        "      print(f\"Eccentricity error: {str(err)}\")\n",
        "      eccentricity = None\n",
        "\n",
        "\n",
        "    # Количество треугольников\n",
        "    try:\n",
        "      triangles = nx.triangles(G)\n",
        "      print(f\"Triangle Count: {triangles}\")\n",
        "    except Exception as err:\n",
        "      print(f\"Triangle Count error: {str(err)}\")\n",
        "      triangles = None\n",
        "\n",
        "\n",
        "    return {\n",
        "        \"degree\": degree_dict,\n",
        "        \"diameter\": diameter,\n",
        "        \"clustering_coeff\": clustering_coeff,\n",
        "        \"degree_cent\": degree_cent,\n",
        "        \"closeness_cent\": closeness_cent,\n",
        "        \"betweenness_cent\": betweenness_cent,\n",
        "        \"eigenvector_cent\": eigenvector_cent,\n",
        "        \"eccentricity\": eccentricity,\n",
        "        \"triangles\": triangles\n",
        "    }"
      ],
      "metadata": {
        "id": "JXHY6kz2jQzK"
      },
      "execution_count": 2,
      "outputs": []
    },
    {
      "cell_type": "markdown",
      "source": [
        "# Загрузка датасетов"
      ],
      "metadata": {
        "id": "sdts8vi7jdQO"
      }
    },
    {
      "cell_type": "code",
      "source": [
        "def load_cora():\n",
        "    return Planetoid(root='./data/Cora', name='Cora')[0]\n",
        "\n",
        "cora_graph = load_cora()"
      ],
      "metadata": {
        "colab": {
          "base_uri": "https://localhost:8080/"
        },
        "id": "r_9Xn5g2jf_R",
        "outputId": "bede3767-3111-438c-c4af-ffbdb190a9d3"
      },
      "execution_count": 3,
      "outputs": [
        {
          "output_type": "stream",
          "name": "stderr",
          "text": [
            "Downloading https://github.com/kimiyoung/planetoid/raw/master/data/ind.cora.x\n",
            "Downloading https://github.com/kimiyoung/planetoid/raw/master/data/ind.cora.tx\n",
            "Downloading https://github.com/kimiyoung/planetoid/raw/master/data/ind.cora.allx\n",
            "Downloading https://github.com/kimiyoung/planetoid/raw/master/data/ind.cora.y\n",
            "Downloading https://github.com/kimiyoung/planetoid/raw/master/data/ind.cora.ty\n",
            "Downloading https://github.com/kimiyoung/planetoid/raw/master/data/ind.cora.ally\n",
            "Downloading https://github.com/kimiyoung/planetoid/raw/master/data/ind.cora.graph\n",
            "Downloading https://github.com/kimiyoung/planetoid/raw/master/data/ind.cora.test.index\n",
            "Processing...\n",
            "Done!\n",
            "Downloading https://github.com/kimiyoung/planetoid/raw/master/data/ind.pubmed.x\n",
            "Downloading https://github.com/kimiyoung/planetoid/raw/master/data/ind.pubmed.tx\n",
            "Downloading https://github.com/kimiyoung/planetoid/raw/master/data/ind.pubmed.allx\n",
            "Downloading https://github.com/kimiyoung/planetoid/raw/master/data/ind.pubmed.y\n",
            "Downloading https://github.com/kimiyoung/planetoid/raw/master/data/ind.pubmed.ty\n",
            "Downloading https://github.com/kimiyoung/planetoid/raw/master/data/ind.pubmed.ally\n",
            "Downloading https://github.com/kimiyoung/planetoid/raw/master/data/ind.pubmed.graph\n",
            "Downloading https://github.com/kimiyoung/planetoid/raw/master/data/ind.pubmed.test.index\n",
            "Processing...\n",
            "Done!\n",
            "Downloading http://snap.stanford.edu/ogb/data/nodeproppred/mag.zip\n",
            "Extracting data/OGB/mag/raw/mag.zip\n",
            "Processing...\n",
            "Done!\n"
          ]
        }
      ]
    },
    {
      "cell_type": "markdown",
      "source": [
        "# Метод визуализации распределений графовых характеристик"
      ],
      "metadata": {
        "id": "lPcxCh2akUmJ"
      }
    },
    {
      "cell_type": "code",
      "source": [
        "import matplotlib.pyplot as plt\n",
        "import seaborn as sns\n",
        "\n",
        "def plot_metric_distribution(metric_data, metric_name, dataset_name):\n",
        "    \"\"\"Функция для визуализации распределений\"\"\"\n",
        "    plt.figure(figsize=(8, 6))\n",
        "    sns.histplot(list(metric_data.values()), kde=True, bins=30)\n",
        "    plt.title(f'Distribution of {metric_name} in {dataset_name}')\n",
        "    plt.xlabel(f'{metric_name} Values')\n",
        "    plt.ylabel('Frequency')\n",
        "    plt.show()\n",
        "\n",
        "def visualize_metrics(dataset_name, metrics):\n",
        "    for metric_name, metric_data in metrics.items():\n",
        "        # Для характеристик в виде словарей\n",
        "        if isinstance(metric_data, dict):\n",
        "            plot_metric_distribution(metric_data, metric_name, dataset_name)\n",
        "        else:\n",
        "            # Если метрика одно значение или была вычислена, просто выводим сообщение\n",
        "            print(f\"{metric_name}: {metric_data}\")"
      ],
      "metadata": {
        "id": "c5oOJWcvkaVH"
      },
      "execution_count": 4,
      "outputs": []
    },
    {
      "cell_type": "markdown",
      "source": [
        "# Сэмплирование CoraML"
      ],
      "metadata": {
        "id": "_dYu5XRBjmUM"
      }
    },
    {
      "cell_type": "code",
      "source": [],
      "metadata": {
        "id": "CXeUfo3Ajq4w"
      },
      "execution_count": null,
      "outputs": []
    }
  ]
}